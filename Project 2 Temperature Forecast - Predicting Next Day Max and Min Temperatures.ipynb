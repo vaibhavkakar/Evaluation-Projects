{
 "cells": [
  {
   "cell_type": "code",
   "execution_count": null,
   "id": "3213812e",
   "metadata": {},
   "outputs": [],
   "source": [
    "\n",
    "import pandas as pd\n",
    "import numpy as np\n",
    "import matplotlib.pyplot as plt\n",
    "import seaborn as sns\n",
    "from sklearn.model_selection import train_test_split, GridSearchCV\n",
    "from sklearn.preprocessing import StandardScaler\n",
    "from sklearn.metrics import mean_absolute_error, mean_squared_error, r2_score\n",
    "from sklearn.linear_model import LinearRegression\n",
    "from sklearn.tree import DecisionTreeRegressor\n",
    "from sklearn.ensemble import RandomForestRegressor, GradientBoostingRegressor\n",
    "import joblib\n"
   ]
  },
  {
   "cell_type": "code",
   "execution_count": null,
   "id": "f570232b",
   "metadata": {},
   "outputs": [],
   "source": [
    "url = 'https://raw.githubusercontent.com/jbrownlee/Datasets/master/daily-min-temperatures.csv'\n",
    "data = pd.read_csv(url)\n",
    "\n",
    "df.head()\n"
   ]
  },
  {
   "cell_type": "code",
   "execution_count": null,
   "id": "cacfc1d2",
   "metadata": {},
   "outputs": [],
   "source": [
    "print(df.describe())\n",
    "print(df.info())"
   ]
  },
  {
   "cell_type": "code",
   "execution_count": null,
   "id": "4eebb613",
   "metadata": {},
   "outputs": [],
   "source": [
    "print(df.isnull().sum())"
   ]
  },
  {
   "cell_type": "code",
   "execution_count": null,
   "id": "5addfeed",
   "metadata": {},
   "outputs": [],
   "source": [
    "\n",
    "df.drop_duplicates(inplace=True)\n",
    "df.fillna(df.mean(), inplace=True)\n"
   ]
  },
  {
   "cell_type": "code",
   "execution_count": null,
   "id": "7550d10f",
   "metadata": {},
   "outputs": [],
   "source": [
    "\n",
    "\n",
    "df.hist(figsize=(10, 8))\n",
    "plt.show()\n",
    "\n",
    "sns.heatmap(df.corr(), annot=True, cmap='coolwarm')\n",
    "plt.show()"
   ]
  },
  {
   "cell_type": "code",
   "execution_count": null,
   "id": "6a782f5b",
   "metadata": {},
   "outputs": [],
   "source": [
    "\n",
    "X = df.drop(['next_day_max_temp', 'next_day_min_temp'], axis=1)\n",
    "y_max = df['next_day_max_temp']\n",
    "y_min = df['next_day_min_temp']"
   ]
  },
  {
   "cell_type": "code",
   "execution_count": null,
   "id": "e9e75f59",
   "metadata": {},
   "outputs": [],
   "source": [
    "\n",
    "X_train_max, X_test_max, y_train_max, y_test_max = train_test_split(X, y_max, test_size=0.2, random_state=42)\n",
    "X_train_min, X_test_min, y_train_min, y_test_min = train_test_split(X, y_min, test_size=0.2, random_state=42)"
   ]
  },
  {
   "cell_type": "code",
   "execution_count": null,
   "id": "ba1126a8",
   "metadata": {},
   "outputs": [],
   "source": [
    "\n",
    "scaler = StandardScaler()\n",
    "X_train_max = scaler.fit_transform(X_train_max)\n",
    "X_test_max = scaler.transform(X_test_max)\n",
    "X_train_min = scaler.fit_transform(X_train_min)\n",
    "X_test_min = scaler.transform(X_test_min)\n"
   ]
  },
  {
   "cell_type": "markdown",
   "id": "600e0a0a",
   "metadata": {},
   "source": [
    "# Linear Regression for Max Temperature\n",
    "linear_model_max = LinearRegression()\n",
    "linear_model_max.fit(X_train_max, y_train_max)\n",
    "y_pred_lin_max = linear_model_max.predict(X_test_max)\n",
    "\n",
    "print(\"Linear Regression (Max Temp) - MAE:\", mean_absolute_error(y_test_max, y_pred_lin_max))\n",
    "print(\"Linear Regression (Max Temp) - MSE:\", mean_squared_error(y_test_max, y_pred_lin_max))\n",
    "print(\"Linear Regression (Max Temp) - R2:\", r2_score(y_test_max, y_pred_lin_max))"
   ]
  },
  {
   "cell_type": "code",
   "execution_count": null,
   "id": "75a32ab0",
   "metadata": {},
   "outputs": [],
   "source": [
    "\n",
    "# Decision Tree Regressor for Max Temperature\n",
    "tree_model_max = DecisionTreeRegressor()\n",
    "tree_model_max.fit(X_train_max, y_train_max)\n",
    "y_pred_tree_max = tree_model_max.predict(X_test_max)\n",
    "\n",
    "print(\"Decision Tree (Max Temp) - MAE:\", mean_absolute_error(y_test_max, y_pred_tree_max))\n",
    "print(\"Decision Tree (Max Temp) - MSE:\", mean_squared_error(y_test_max, y_pred_tree_max))\n",
    "print(\"Decision Tree (Max Temp) - R2:\", r2_score(y_test_max, y_pred_tree_max))"
   ]
  },
  {
   "cell_type": "code",
   "execution_count": null,
   "id": "59dff88f",
   "metadata": {},
   "outputs": [],
   "source": [
    "# Random Forest Regressor for Max Temperature\n",
    "forest_model_max = RandomForestRegressor()\n",
    "forest_model_max.fit(X_train_max, y_train_max)\n",
    "y_pred_forest_max = forest_model_max.predict(X_test_max)\n",
    "\n",
    "print(\"Random Forest (Max Temp) - MAE:\", mean_absolute_error(y_test_max, y_pred_forest_max))\n",
    "print(\"Random Forest (Max Temp) - MSE:\", mean_squared_error(y_test_max, y_pred_forest_max))\n",
    "print(\"Random Forest (Max Temp) - R2:\", r2_score(y_test_max, y_pred_forest_max))\n"
   ]
  },
  {
   "cell_type": "code",
   "execution_count": null,
   "id": "871077d2",
   "metadata": {},
   "outputs": [],
   "source": [
    "\n",
    "# Linear Regression for Min Temperature\n",
    "linear_model_min = LinearRegression()\n",
    "linear_model_min.fit(X_train_min, y_train_min)\n",
    "y_pred_lin_min = linear_model_min.predict(X_test_min)\n",
    "\n",
    "print(\"Linear Regression (Min Temp) - MAE:\", mean_absolute_error(y_test_min, y_pred_lin_min))\n",
    "print(\"Linear Regression (Min Temp) - MSE:\", mean_squared_error(y_test_min, y_pred_lin_min))\n",
    "print(\"Linear Regression (Min Temp) - R2:\", r2_score(y_test_min, y_pred_lin_min))"
   ]
  },
  {
   "cell_type": "code",
   "execution_count": null,
   "id": "afc9da8b",
   "metadata": {},
   "outputs": [],
   "source": [
    "\n",
    "\n",
    "# Decision Tree Regressor for Min Temperature\n",
    "tree_model_min = DecisionTreeRegressor()\n",
    "tree_model_min.fit(X_train_min, y_train_min)\n",
    "y_pred_tree_min = tree_model_min.predict(X_test_min)\n",
    "\n",
    "print(\"Decision Tree (Min Temp) - MAE:\", mean_absolute_error(y_test_min, y_pred_tree_min))\n",
    "print(\"Decision Tree (Min Temp) - MSE:\", mean_squared_error(y_test_min, y_pred_tree_min))\n",
    "print(\"Decision Tree (Min Temp) - R2:\", r2_score(y_test_min, y_pred_tree_min))"
   ]
  },
  {
   "cell_type": "code",
   "execution_count": null,
   "id": "551272b9",
   "metadata": {},
   "outputs": [],
   "source": [
    "\n",
    "\n",
    "# Random Forest Regressor for Min Temperature\n",
    "forest_model_min = RandomForestRegressor()\n",
    "forest_model_min.fit(X_train_min, y_train_min)\n",
    "y_pred_forest_min = forest_model_min.predict(X_test_min)\n",
    "\n",
    "print(\"Random Forest (Min Temp) - MAE:\", mean_absolute_error(y_test_min, y_pred_forest_min))\n",
    "print(\"Random Forest (Min Temp) - MSE:\", mean_squared_error(y_test_min, y_pred_forest_min))\n",
    "print(\"Random Forest (Min Temp) - R2:\", r2_score(y_test_min, y_pred_forest_min))\n"
   ]
  },
  {
   "cell_type": "code",
   "execution_count": null,
   "id": "3960161c",
   "metadata": {},
   "outputs": [],
   "source": [
    "\n",
    "# Hyperparameter tuning for Random Forest Regressor (Max Temp)\n",
    "param_grid_max = {'n_estimators': [50, 100, 200], 'max_depth': [3, 5, 7]}\n",
    "grid_max = GridSearchCV(RandomForestRegressor(), param_grid_max, cv=5)\n",
    "grid_max.fit(X_train_max, y_train_max)\n",
    "\n",
    "print(\"Best parameters for Random Forest Regressor (Max Temp):\", grid_max.best_params_)\n"
   ]
  },
  {
   "cell_type": "code",
   "execution_count": null,
   "id": "2a7b12ca",
   "metadata": {},
   "outputs": [],
   "source": [
    "\n",
    "# Hyperparameter tuning for Random Forest Regressor (Min Temp)\n",
    "param_grid_min = {'n_estimators': [50, 100, 200], 'max_depth': [3, 5, 7]}\n",
    "grid_min = GridSearchCV(RandomForestRegressor(), param_grid_min, cv=5)\n",
    "grid_min.fit(X_train_min, y_train_min)\n",
    "\n",
    "print(\"Best parameters for Random Forest Regressor (Min Temp):\", grid_min.best_params_)\n"
   ]
  },
  {
   "cell_type": "code",
   "execution_count": null,
   "id": "72780954",
   "metadata": {},
   "outputs": [],
   "source": [
    "\n",
    "joblib.dump(grid_max.best_estimator_, 'best_max_temp_model.pkl')\n",
    "joblib.dump(grid_min.best_estimator_, 'best_min_temp_model.pkl')\n"
   ]
  }
 ],
 "metadata": {
  "language_info": {
   "name": "python"
  }
 },
 "nbformat": 4,
 "nbformat_minor": 5
}
