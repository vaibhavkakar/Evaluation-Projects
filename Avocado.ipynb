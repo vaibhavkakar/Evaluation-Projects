{
 "cells": [
  {
   "cell_type": "code",
   "execution_count": 1,
   "id": "1155500e",
   "metadata": {},
   "outputs": [],
   "source": [
    "import pandas as pd\n",
    "import numpy as np\n",
    "from sklearn.model_selection import train_test_split\n",
    "from sklearn.ensemble import RandomForestRegressor, GradientBoostingRegressor, RandomForestClassifier, GradientBoostingClassifier\n",
    "from sklearn.linear_model import LinearRegression, LogisticRegression\n",
    "from sklearn.metrics import mean_squared_error, accuracy_score\n",
    "from sklearn.model_selection import GridSearchCV\n",
    "import matplotlib.pyplot as plt\n",
    "import seaborn as sns\n",
    "\n",
    "np.random.seed(42)\n"
   ]
  },
  {
   "cell_type": "code",
   "execution_count": 2,
   "id": "43d418d7",
   "metadata": {},
   "outputs": [],
   "source": [
    "\n",
    "url = 'https://raw.githubusercontent.com/dsrscientist/Data-Science-ML-Capstone-Projects/master/avocado.csv'\n",
    "data = pd.read_csv(url)\n"
   ]
  },
  {
   "cell_type": "code",
   "execution_count": 3,
   "id": "15454f93",
   "metadata": {},
   "outputs": [
    {
     "name": "stdout",
     "output_type": "stream",
     "text": [
      "   Unnamed: 0        Date  AveragePrice  Total Volume     4046       4225  \\\n",
      "0         0.0  27-12-2015          1.33      64236.62  1036.74   54454.85   \n",
      "1         1.0  20-12-2015          1.35      54876.98   674.28   44638.81   \n",
      "2         2.0  13-12-2015          0.93     118220.22   794.70  109149.67   \n",
      "3         3.0  06-12-2015          1.08      78992.15  1132.00   71976.41   \n",
      "4         4.0  29-11-2015          1.28      51039.60   941.48   43838.39   \n",
      "\n",
      "     4770  Total Bags  Small Bags  Large Bags  XLarge Bags          type  \\\n",
      "0   48.16     8696.87     8603.62       93.25          0.0  conventional   \n",
      "1   58.33     9505.56     9408.07       97.49          0.0  conventional   \n",
      "2  130.50     8145.35     8042.21      103.14          0.0  conventional   \n",
      "3   72.58     5811.16     5677.40      133.76          0.0  conventional   \n",
      "4   75.78     6183.95     5986.26      197.69          0.0  conventional   \n",
      "\n",
      "     year  region  \n",
      "0  2015.0  Albany  \n",
      "1  2015.0  Albany  \n",
      "2  2015.0  Albany  \n",
      "3  2015.0  Albany  \n",
      "4  2015.0  Albany  \n"
     ]
    }
   ],
   "source": [
    "print(data.head())"
   ]
  },
  {
   "cell_type": "code",
   "execution_count": 4,
   "id": "49c26d2c",
   "metadata": {},
   "outputs": [
    {
     "name": "stdout",
     "output_type": "stream",
     "text": [
      "Unnamed: 0      14951\n",
      "Date            14951\n",
      "AveragePrice    14951\n",
      "Total Volume    14951\n",
      "4046            14951\n",
      "4225            14951\n",
      "4770            14951\n",
      "Total Bags      14951\n",
      "Small Bags      14951\n",
      "Large Bags      14951\n",
      "XLarge Bags     14951\n",
      "type            14951\n",
      "year            14951\n",
      "region          14951\n",
      "dtype: int64\n"
     ]
    }
   ],
   "source": [
    "\n",
    "print(data.isnull().sum())\n"
   ]
  },
  {
   "cell_type": "code",
   "execution_count": 5,
   "id": "a7117b12",
   "metadata": {},
   "outputs": [],
   "source": [
    "\n",
    "numeric_cols = data.select_dtypes(include=[np.number]).columns\n",
    "data[numeric_cols] = data[numeric_cols].fillna(data[numeric_cols].median())"
   ]
  },
  {
   "cell_type": "code",
   "execution_count": 6,
   "id": "6db9a8e5",
   "metadata": {},
   "outputs": [],
   "source": [
    "\n",
    "categorical_cols = data.select_dtypes(include=['object']).columns\n",
    "data[categorical_cols] = data[categorical_cols].fillna(data[categorical_cols].mode().iloc[0])\n"
   ]
  },
  {
   "cell_type": "code",
   "execution_count": 7,
   "id": "6296b2c7",
   "metadata": {},
   "outputs": [
    {
     "name": "stdout",
     "output_type": "stream",
     "text": [
      "Unnamed: 0      0\n",
      "Date            0\n",
      "AveragePrice    0\n",
      "Total Volume    0\n",
      "4046            0\n",
      "4225            0\n",
      "4770            0\n",
      "Total Bags      0\n",
      "Small Bags      0\n",
      "Large Bags      0\n",
      "XLarge Bags     0\n",
      "type            0\n",
      "year            0\n",
      "region          0\n",
      "dtype: int64\n"
     ]
    }
   ],
   "source": [
    "\n",
    "print(data.isnull().sum())"
   ]
  },
  {
   "cell_type": "code",
   "execution_count": 8,
   "id": "554ad79d",
   "metadata": {},
   "outputs": [],
   "source": [
    "\n",
    "data = pd.get_dummies(data, drop_first=True)"
   ]
  },
  {
   "cell_type": "code",
   "execution_count": 9,
   "id": "2acf3810",
   "metadata": {},
   "outputs": [
    {
     "name": "stdout",
     "output_type": "stream",
     "text": [
      "Index(['Unnamed: 0', 'AveragePrice', 'Total Volume', '4046', '4225', '4770',\n",
      "       'Total Bags', 'Small Bags', 'Large Bags', 'XLarge Bags',\n",
      "       ...\n",
      "       'region_SouthCarolina', 'region_SouthCentral', 'region_Southeast',\n",
      "       'region_Spokane', 'region_StLouis', 'region_Syracuse', 'region_Tampa',\n",
      "       'region_TotalUS', 'region_West', 'region_WestTexNewMexico'],\n",
      "      dtype='object', length=164)\n"
     ]
    }
   ],
   "source": [
    "\n",
    "print(data.columns)"
   ]
  },
  {
   "cell_type": "code",
   "execution_count": 10,
   "id": "b1c27d65",
   "metadata": {},
   "outputs": [],
   "source": [
    "\n",
    "X_price = data.drop(columns=['AveragePrice', 'Date'], errors='ignore')\n",
    "y_price = data['AveragePrice']\n"
   ]
  },
  {
   "cell_type": "code",
   "execution_count": 11,
   "id": "0e3156b0",
   "metadata": {},
   "outputs": [],
   "source": [
    "\n",
    "if 'type_organic' in data.columns:\n",
    "    y_type = data['type_organic']\n",
    "else:\n",
    "    y_type = np.zeros(len(data))\n",
    "\n",
    "X_type = data.drop(columns=['type', 'Date'], errors='ignore')"
   ]
  },
  {
   "cell_type": "code",
   "execution_count": 12,
   "id": "a4d95d27",
   "metadata": {},
   "outputs": [
    {
     "name": "stdout",
     "output_type": "stream",
     "text": [
      "Training set size for price prediction: (13174, 163)\n",
      "Training set size for type prediction: (13174, 164)\n"
     ]
    }
   ],
   "source": [
    "\n",
    "X_train_price, X_test_price, y_train_price, y_test_price = train_test_split(X_price, y_price, test_size=0.2, random_state=42)\n",
    "X_train_type, X_test_type, y_train_type, y_test_type = train_test_split(X_type, y_type, test_size=0.2, random_state=42)\n",
    "\n",
    "print(f\"Training set size for price prediction: {X_train_price.shape}\")\n",
    "print(f\"Training set size for type prediction: {X_train_type.shape}\")\n"
   ]
  },
  {
   "cell_type": "code",
   "execution_count": 13,
   "id": "3a8dc1a2",
   "metadata": {},
   "outputs": [
    {
     "name": "stdout",
     "output_type": "stream",
     "text": [
      "RandomForest RMSE for price prediction: 0.02396061013177811\n",
      "RandomForest Accuracy for type prediction: 1.0\n"
     ]
    }
   ],
   "source": [
    "# RandomForest Regressor for price prediction\n",
    "rf_price = RandomForestRegressor()\n",
    "rf_price.fit(X_train_price, y_train_price)\n",
    "y_pred_rf_price = rf_price.predict(X_test_price)\n",
    "mse_rf_price = mean_squared_error(y_test_price, y_pred_rf_price)\n",
    "rmse_rf_price = mse_rf_price ** 0.5\n",
    "print(f\"RandomForest RMSE for price prediction: {rmse_rf_price}\")\n",
    "\n",
    "#  RandomForest Classifier for type prediction\n",
    "rf_type = RandomForestClassifier()\n",
    "rf_type.fit(X_train_type, y_train_type)\n",
    "y_pred_rf_type = rf_type.predict(X_test_type)\n",
    "accuracy_rf_type = accuracy_score(y_test_type, y_pred_rf_type)\n",
    "print(f\"RandomForest Accuracy for type prediction: {accuracy_rf_type}\")\n"
   ]
  },
  {
   "cell_type": "code",
   "execution_count": 14,
   "id": "f80fe434",
   "metadata": {},
   "outputs": [
    {
     "name": "stdout",
     "output_type": "stream",
     "text": [
      "Linear Regression RMSE for price prediction: 0.026724790063832726\n",
      "Classification task is not possible, as there is only one class in the data.\n"
     ]
    }
   ],
   "source": [
    "# Linear Regression model for price prediction\n",
    "lr_price = LinearRegression()\n",
    "lr_price.fit(X_train_price, y_train_price)\n",
    "y_pred_lr_price = lr_price.predict(X_test_price)\n",
    "mse_lr_price = mean_squared_error(y_test_price, y_pred_lr_price)\n",
    "rmse_lr_price = mse_lr_price ** 0.5\n",
    "print(f\"Linear Regression RMSE for price prediction: {rmse_lr_price}\")\n",
    "\n",
    "\n",
    "if len(np.unique(y_train_type)) > 1:\n",
    "    # Logistic Regression model for type prediction\n",
    "    lr_type = LogisticRegression()\n",
    "    lr_type.fit(X_train_type, y_train_type)\n",
    "    y_pred_lr_type = lr_type.predict(X_test_type)\n",
    "    accuracy_lr_type = accuracy_score(y_test_type, y_pred_lr_type)\n",
    "    print(f\"Logistic Regression Accuracy for type prediction: {accuracy_lr_type}\")\n",
    "else:\n",
    "    print('Classification task is not possible, as there is only one class in the data.')\n"
   ]
  },
  {
   "cell_type": "code",
   "execution_count": 15,
   "id": "88e1ae37",
   "metadata": {},
   "outputs": [
    {
     "name": "stdout",
     "output_type": "stream",
     "text": [
      "Gradient Boosting RMSE for price prediction: 0.030586366246195828\n",
      "Classification task is not possible, as there is only one class in the data.\n"
     ]
    }
   ],
   "source": [
    "# Gradient Boosting Regressor for price prediction\n",
    "gb_price = GradientBoostingRegressor()\n",
    "gb_price.fit(X_train_price, y_train_price)\n",
    "y_pred_gb_price = gb_price.predict(X_test_price)\n",
    "mse_gb_price = mean_squared_error(y_test_price, y_pred_gb_price)\n",
    "rmse_gb_price = mse_gb_price ** 0.5\n",
    "print(f\"Gradient Boosting RMSE for price prediction: {rmse_gb_price}\")\n",
    "\n",
    "if len(np.unique(y_train_type)) > 1:\n",
    "    # Gradient Boosting Classifier for type prediction\n",
    "    gb_type = GradientBoostingClassifier()\n",
    "    gb_type.fit(X_train_type, y_train_type)\n",
    "    y_pred_gb_type = gb_type.predict(X_test_type)\n",
    "    accuracy_gb_type = accuracy_score(y_test_type, y_pred_gb_type)\n",
    "    print(f\"Gradient Boosting Accuracy for type prediction: {accuracy_gb_type}\")\n",
    "else:\n",
    "    print('Classification task is not possible, as there is only one class in the data.')\n"
   ]
  },
  {
   "cell_type": "code",
   "execution_count": 16,
   "id": "705a32c0",
   "metadata": {},
   "outputs": [
    {
     "name": "stdout",
     "output_type": "stream",
     "text": [
      "Best Gradient Boosting RMSE for price prediction after tuning: 0.02260598119037988\n",
      "Best parameters for Gradient Boosting Regressor: {'learning_rate': 0.1, 'max_depth': 7, 'n_estimators': 300}\n"
     ]
    }
   ],
   "source": [
    "# Perform hyperparameter tuning for Gradient Boosting Regressor using GridSearchCV\n",
    "param_grid_gb_price = {\n",
    "    'n_estimators': [100, 200, 300],\n",
    "    'learning_rate': [0.01, 0.1, 0.2],\n",
    "    'max_depth': [3, 5, 7]\n",
    "}\n",
    "\n",
    "grid_search_gb_price = GridSearchCV(estimator=gb_price, param_grid=param_grid_gb_price, cv=5, scoring='neg_mean_squared_error', n_jobs=-1)\n",
    "grid_search_gb_price.fit(X_train_price, y_train_price)\n",
    "\n",
    "# Best model from grid search for price prediction\n",
    "best_gb_price = grid_search_gb_price.best_estimator_\n",
    "best_y_pred_gb_price = best_gb_price.predict(X_test_price)\n",
    "best_mse_gb_price = mean_squared_error(y_test_price, best_y_pred_gb_price)\n",
    "best_rmse_gb_price = best_mse_gb_price ** 0.5\n",
    "print(f\"Best Gradient Boosting RMSE for price prediction after tuning: {best_rmse_gb_price}\")\n",
    "print(f\"Best parameters for Gradient Boosting Regressor: {grid_search_gb_price.best_params_}\")\n"
   ]
  }
 ],
 "metadata": {
  "kernelspec": {
   "display_name": "myenv",
   "language": "python",
   "name": "python3"
  },
  "language_info": {
   "codemirror_mode": {
    "name": "ipython",
    "version": 3
   },
   "file_extension": ".py",
   "mimetype": "text/x-python",
   "name": "python",
   "nbconvert_exporter": "python",
   "pygments_lexer": "ipython3",
   "version": "3.12.4"
  }
 },
 "nbformat": 4,
 "nbformat_minor": 5
}
