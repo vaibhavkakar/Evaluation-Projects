{
 "cells": [
  {
   "cell_type": "code",
   "execution_count": null,
   "id": "8fe8315b",
   "metadata": {},
   "outputs": [],
   "source": [
    "\n",
    "import pandas as pd\n",
    "import numpy as np\n",
    "import matplotlib.pyplot as plt\n",
    "import seaborn as sns\n",
    "from sklearn.model_selection import train_test_split, GridSearchCV, cross_val_score\n",
    "from sklearn.preprocessing import LabelEncoder, StandardScaler\n",
    "from sklearn.metrics import accuracy_score, f1_score, precision_score, recall_score, mean_absolute_error, mean_squared_error, r2_score\n",
    "from sklearn.linear_model import LogisticRegression, LinearRegression\n",
    "from sklearn.tree import DecisionTreeClassifier, DecisionTreeRegressor\n",
    "from sklearn.ensemble import RandomForestClassifier, RandomForestRegressor, GradientBoostingClassifier, GradientBoostingRegressor\n",
    "import joblib\n"
   ]
  },
  {
   "cell_type": "markdown",
   "id": "0c8d16aa",
   "metadata": {},
   "source": [
    "### 2. Loading and Inspecting the Data"
   ]
  },
  {
   "cell_type": "code",
   "execution_count": null,
   "id": "2a46b841",
   "metadata": {},
   "outputs": [],
   "source": [
    "url = 'https://raw.githubusercontent.com/wri/global-power-plant-database/master/output_database/global_power_plant_database.csv'\n",
    "data = pd.read_csv(url)\n",
    "\n",
    "df.head()\n"
   ]
  },
  {
   "cell_type": "code",
   "execution_count": null,
   "id": "f2d4e4e0",
   "metadata": {},
   "outputs": [],
   "source": [
    "print(df.describe())\n",
    "print(df.info())"
   ]
  },
  {
   "cell_type": "code",
   "execution_count": null,
   "id": "11007907",
   "metadata": {},
   "outputs": [],
   "source": [
    "print(df.isnull().sum())"
   ]
  },
  {
   "cell_type": "code",
   "execution_count": null,
   "id": "a1cd08b7",
   "metadata": {},
   "outputs": [],
   "source": [
    "\n",
    "df.hist(figsize=(10, 8))\n",
    "plt.show()\n",
    "\n",
    "\n",
    "sns.heatmap(df.corr(), annot=True, cmap='coolwarm')\n",
    "plt.show()"
   ]
  },
  {
   "cell_type": "code",
   "execution_count": null,
   "id": "bc570e79",
   "metadata": {},
   "outputs": [],
   "source": [
    "\n",
    "df.drop_duplicates(inplace=True)\n",
    "df.fillna(df.mean(), inplace=True)\n"
   ]
  },
  {
   "cell_type": "code",
   "execution_count": null,
   "id": "2ee234e4",
   "metadata": {},
   "outputs": [],
   "source": [
    "\n",
    "df['primary_fuel'] = LabelEncoder().fit_transform(df['primary_fuel'])\n",
    "df = pd.get_dummies(df, drop_first=True)"
   ]
  },
  {
   "cell_type": "code",
   "execution_count": null,
   "id": "b3f922b7",
   "metadata": {},
   "outputs": [],
   "source": [
    "\n",
    "scaler = StandardScaler()\n",
    "df[['capacity_mw']] = scaler.fit_transform(df[['capacity_mw']])"
   ]
  },
  {
   "cell_type": "code",
   "execution_count": null,
   "id": "3c59cd21",
   "metadata": {},
   "outputs": [],
   "source": [
    "\n",
    "X = df.drop(['primary_fuel', 'capacity_mw'], axis=1)\n",
    "y_class = df['primary_fuel']\n",
    "y_reg = df['capacity_mw']"
   ]
  },
  {
   "cell_type": "code",
   "execution_count": null,
   "id": "fb49882d",
   "metadata": {},
   "outputs": [],
   "source": [
    "\n",
    "X_train_c, X_test_c, y_train_c, y_test_c = train_test_split(X, y_class, test_size=0.2, random_state=42)\n",
    "X_train_r, X_test_r, y_train_r, y_test_r = train_test_split(X, y_reg, test_size=0.2, random_state=42)\n"
   ]
  },
  {
   "cell_type": "code",
   "execution_count": null,
   "id": "f75b34fc",
   "metadata": {},
   "outputs": [],
   "source": [
    "\n",
    "# Logistic Regression\n",
    "logistic_model = LogisticRegression()\n",
    "logistic_model.fit(X_train_c, y_train_c)\n",
    "y_pred_log = logistic_model.predict(X_test_c)\n",
    "\n",
    "print(\"Logistic Regression - Accuracy:\", accuracy_score(y_test_c, y_pred_log))\n",
    "print(\"Logistic Regression - F1 Score:\", f1_score(y_test_c, y_pred_log, average='weighted'))"
   ]
  },
  {
   "cell_type": "code",
   "execution_count": null,
   "id": "3e8250e6",
   "metadata": {},
   "outputs": [],
   "source": [
    "\n",
    "# Decision Tree Classifier\n",
    "tree_model = DecisionTreeClassifier()\n",
    "tree_model.fit(X_train_c, y_train_c)\n",
    "y_pred_tree = tree_model.predict(X_test_c)\n",
    "\n",
    "print(\"Decision Tree - Accuracy:\", accuracy_score(y_test_c, y_pred_tree))\n",
    "print(\"Decision Tree - F1 Score:\", f1_score(y_test_c, y_pred_tree, average='weighted'))"
   ]
  },
  {
   "cell_type": "code",
   "execution_count": null,
   "id": "0a1247e6",
   "metadata": {},
   "outputs": [],
   "source": [
    "\n",
    "# Random Forest Classifier\n",
    "forest_model = RandomForestClassifier()\n",
    "forest_model.fit(X_train_c, y_train_c)\n",
    "y_pred_forest = forest_model.predict(X_test_c)\n",
    "\n",
    "print(\"Random Forest - Accuracy:\", accuracy_score(y_test_c, y_pred_forest))\n",
    "print(\"Random Forest - F1 Score:\", f1_score(y_test_c, y_pred_forest, average='weighted'))\n"
   ]
  },
  {
   "cell_type": "markdown",
   "id": "09be5d1b",
   "metadata": {},
   "source": [
    " Model Building & Evaluation - Regression Task (Capacity MW)"
   ]
  },
  {
   "cell_type": "code",
   "execution_count": null,
   "id": "ba6c6998",
   "metadata": {},
   "outputs": [],
   "source": [
    "\n",
    "# Linear Regression\n",
    "linear_model = LinearRegression()\n",
    "linear_model.fit(X_train_r, y_train_r)\n",
    "y_pred_lin = linear_model.predict(X_test_r)\n",
    "\n",
    "print(\"Linear Regression - MAE:\", mean_absolute_error(y_test_r, y_pred_lin))\n",
    "print(\"Linear Regression - MSE:\", mean_squared_error(y_test_r, y_pred_lin))\n",
    "print(\"Linear Regression - R2 Score:\", r2_score(y_test_r, y_pred_lin))"
   ]
  },
  {
   "cell_type": "code",
   "execution_count": null,
   "id": "6cc47394",
   "metadata": {},
   "outputs": [],
   "source": [
    "\n",
    "# Decision Tree Regressor\n",
    "tree_regressor = DecisionTreeRegressor()\n",
    "tree_regressor.fit(X_train_r, y_train_r)\n",
    "y_pred_tree_reg = tree_regressor.predict(X_test_r)\n",
    "\n",
    "print(\"Decision Tree Regressor - MAE:\", mean_absolute_error(y_test_r, y_pred_tree_reg))\n",
    "print(\"Decision Tree Regressor - MSE:\", mean_squared_error(y_test_r, y_pred_tree_reg))\n",
    "print(\"Decision Tree Regressor - R2 Score:\", r2_score(y_test_r, y_pred_tree_reg))"
   ]
  },
  {
   "cell_type": "code",
   "execution_count": null,
   "id": "3504f1da",
   "metadata": {},
   "outputs": [],
   "source": [
    "\n",
    "# Random Forest Regressor\n",
    "forest_regressor = RandomForestRegressor()\n",
    "forest_regressor.fit(X_train_r, y_train_r)\n",
    "y_pred_forest_reg = forest_regressor.predict(X_test_r)\n",
    "\n",
    "print(\"Random Forest Regressor - MAE:\", mean_absolute_error(y_test_r, y_pred_forest_reg))\n",
    "print(\"Random Forest Regressor - MSE:\", mean_squared_error(y_test_r, y_pred_forest_reg))\n",
    "print(\"Random Forest Regressor - R2 Score:\", r2_score(y_test_r, y_pred_forest_reg))\n"
   ]
  },
  {
   "cell_type": "markdown",
   "id": "45aa5def",
   "metadata": {},
   "source": [
    "Hyperparameter Tuning"
   ]
  },
  {
   "cell_type": "code",
   "execution_count": null,
   "id": "6c9c2531",
   "metadata": {},
   "outputs": [],
   "source": [
    "\n",
    "# Hyperparameter tuning for Random Forest Classifier\n",
    "param_grid_c = {'n_estimators': [50, 100, 200], 'max_depth': [3, 5, 7]}\n",
    "grid_c = GridSearchCV(RandomForestClassifier(), param_grid_c, cv=5)\n",
    "grid_c.fit(X_train_c, y_train_c)\n",
    "\n",
    "print(\"Best parameters for Random Forest Classifier:\", grid_c.best_params_)"
   ]
  },
  {
   "cell_type": "code",
   "execution_count": null,
   "id": "61b3ee8c",
   "metadata": {},
   "outputs": [],
   "source": [
    "# Hyperparameter tuning for Random Forest Regressor\n",
    "param_grid_r = {'n_estimators': [50, 100, 200], 'max_depth': [3, 5, 7]}\n",
    "grid_r = GridSearchCV(RandomForestRegressor(), param_grid_r, cv=5)\n",
    "grid_r.fit(X_train_r, y_train_r)\n",
    "\n",
    "print(\"Best parameters for Random Forest Regressor:\", grid_r.best_params_)\n"
   ]
  },
  {
   "cell_type": "code",
   "execution_count": null,
   "id": "be8ae028",
   "metadata": {},
   "outputs": [],
   "source": [
    "\n",
    "# Saving the best model using joblib\n",
    "joblib.dump(grid_c.best_estimator_, 'best_classification_model.pkl')\n",
    "joblib.dump(grid_r.best_estimator_, 'best_regression_model.pkl')\n"
   ]
  }
 ],
 "metadata": {
  "language_info": {
   "name": "python"
  }
 },
 "nbformat": 4,
 "nbformat_minor": 5
}
