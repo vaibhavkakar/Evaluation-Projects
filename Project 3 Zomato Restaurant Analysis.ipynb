{
 "cells": [
  {
   "cell_type": "code",
   "execution_count": null,
   "id": "834e9afa",
   "metadata": {},
   "outputs": [],
   "source": [
    "\n",
    "import pandas as pd\n",
    "import numpy as np\n",
    "import matplotlib.pyplot as plt\n",
    "import seaborn as sns\n",
    "from sklearn.model_selection import train_test_split, GridSearchCV\n",
    "from sklearn.preprocessing import LabelEncoder, StandardScaler\n",
    "from sklearn.metrics import mean_absolute_error, mean_squared_error, r2_score\n",
    "from sklearn.linear_model import LinearRegression\n",
    "from sklearn.tree import DecisionTreeRegressor\n",
    "from sklearn.ensemble import RandomForestRegressor, GradientBoostingRegressor\n",
    "from xgboost import XGBRegressor\n",
    "import joblib\n"
   ]
  },
  {
   "cell_type": "code",
   "execution_count": null,
   "id": "89f6e8b1",
   "metadata": {},
   "outputs": [],
   "source": [
    "\n",
    "url_zomato = \"https://github.com/dsrscientist/dataset4/blob/main/zomato.csv?raw=true\"\n",
    "url_country = \"https://github.com/FlipRoboTechnologies/ML_-Datasets/blob/main/Z_Restaurant/Country-Code.xlsx?raw=true\"\n",
    "df_zomato = pd.read_csv(url_zomato)\n",
    "df_country = pd.read_excel(url_country)"
   ]
  },
  {
   "cell_type": "code",
   "execution_count": null,
   "id": "fb3f4c09",
   "metadata": {},
   "outputs": [],
   "source": [
    "\n",
    "df = pd.merge(df_zomato, df_country, how='left', left_on='Country Code', right_on='Country Code')"
   ]
  },
  {
   "cell_type": "code",
   "execution_count": null,
   "id": "32c9a648",
   "metadata": {},
   "outputs": [],
   "source": [
    "\n",
    "df.head()\n"
   ]
  },
  {
   "cell_type": "code",
   "execution_count": null,
   "id": "881eb8c0",
   "metadata": {},
   "outputs": [],
   "source": [
    "\n",
    "print(df.describe())\n",
    "print(df.info())\n",
    "print(df.isnull().sum())"
   ]
  },
  {
   "cell_type": "code",
   "execution_count": null,
   "id": "be53132a",
   "metadata": {},
   "outputs": [],
   "source": [
    "\n",
    "df.hist(figsize=(12, 10))\n",
    "plt.show()\n"
   ]
  },
  {
   "cell_type": "code",
   "execution_count": null,
   "id": "0b83db87",
   "metadata": {},
   "outputs": [],
   "source": [
    "\n",
    "plt.figure(figsize=(10, 8))\n",
    "sns.heatmap(df.corr(), annot=True, cmap='coolwarm')\n",
    "plt.show()"
   ]
  },
  {
   "cell_type": "code",
   "execution_count": null,
   "id": "914973cc",
   "metadata": {},
   "outputs": [],
   "source": [
    "\n",
    "df.drop_duplicates(inplace=True)\n",
    "df.fillna(df.mean(), inplace=True)\n"
   ]
  },
  {
   "cell_type": "code",
   "execution_count": null,
   "id": "c1ecf35b",
   "metadata": {},
   "outputs": [],
   "source": [
    "\n",
    "categorical_features = df.select_dtypes(include=['object']).columns\n",
    "for feature in categorical_features:\n",
    "    df[feature] = LabelEncoder().fit_transform(df[feature])"
   ]
  },
  {
   "cell_type": "code",
   "execution_count": null,
   "id": "818b689f",
   "metadata": {},
   "outputs": [],
   "source": [
    "\n",
    "X = df.drop(['Average Cost for two', 'Price range'], axis=1)\n",
    "y_cost = df['Average Cost for two']\n",
    "y_price = df['Price range']"
   ]
  },
  {
   "cell_type": "code",
   "execution_count": null,
   "id": "fe909b0d",
   "metadata": {},
   "outputs": [],
   "source": [
    "\n",
    "X_train_cost, X_test_cost, y_train_cost, y_test_cost = train_test_split(X, y_cost, test_size=0.2, random_state=42)\n",
    "X_train_price, X_test_price, y_train_price, y_test_price = train_test_split(X, y_price, test_size=0.2, random_state=42)"
   ]
  },
  {
   "cell_type": "code",
   "execution_count": null,
   "id": "d0eaa51f",
   "metadata": {},
   "outputs": [],
   "source": [
    "\n",
    "scaler = StandardScaler()\n",
    "X_train_cost = scaler.fit_transform(X_train_cost)\n",
    "X_test_cost = scaler.transform(X_test_cost)\n",
    "X_train_price = scaler.fit_transform(X_train_price)\n",
    "X_test_price = scaler.transform(X_test_price)\n"
   ]
  },
  {
   "cell_type": "code",
   "execution_count": null,
   "id": "cd949be5",
   "metadata": {},
   "outputs": [],
   "source": [
    "\n",
    "# Linear Regression\n",
    "linear_model_cost = LinearRegression()\n",
    "linear_model_cost.fit(X_train_cost, y_train_cost)\n",
    "y_pred_lin_cost = linear_model_cost.predict(X_test_cost)\n",
    "\n",
    "print(\"Linear Regression (Cost) - MAE:\", mean_absolute_error(y_test_cost, y_pred_lin_cost))\n",
    "print(\"Linear Regression (Cost) - MSE:\", mean_squared_error(y_test_cost, y_pred_lin_cost))\n",
    "print(\"Linear Regression (Cost) - R2 Score:\", r2_score(y_test_cost, y_pred_lin_cost))"
   ]
  },
  {
   "cell_type": "code",
   "execution_count": null,
   "id": "7112e47a",
   "metadata": {},
   "outputs": [],
   "source": [
    "\n",
    "# Random Forest Regressor\n",
    "forest_model_cost = RandomForestRegressor()\n",
    "forest_model_cost.fit(X_train_cost, y_train_cost)\n",
    "y_pred_forest_cost = forest_model_cost.predict(X_test_cost)\n",
    "\n",
    "print(\"Random Forest (Cost) - MAE:\", mean_absolute_error(y_test_cost, y_pred_forest_cost))\n",
    "print(\"Random Forest (Cost) - MSE:\", mean_squared_error(y_test_cost, y_pred_forest_cost))\n",
    "print(\"Random Forest (Cost) - R2 Score:\", r2_score(y_test_cost, y_pred_forest_cost))"
   ]
  },
  {
   "cell_type": "code",
   "execution_count": null,
   "id": "f25cc4c3",
   "metadata": {},
   "outputs": [],
   "source": [
    "\n",
    "# XGBoost Regressor\n",
    "xgb_model_cost = XGBRegressor()\n",
    "xgb_model_cost.fit(X_train_cost, y_train_cost)\n",
    "y_pred_xgb_cost = xgb_model_cost.predict(X_test_cost)\n",
    "\n",
    "print(\"XGBoost (Cost) - MAE:\", mean_absolute_error(y_test_cost, y_pred_xgb_cost))\n",
    "print(\"XGBoost (Cost) - MSE:\", mean_squared_error(y_test_cost, y_pred_xgb_cost))\n",
    "print(\"XGBoost (Cost) - R2 Score:\", r2_score(y_test_cost, y_pred_xgb_cost))\n"
   ]
  },
  {
   "cell_type": "code",
   "execution_count": null,
   "id": "90e13b4e",
   "metadata": {},
   "outputs": [],
   "source": [
    "\n",
    "# Linear Regression\n",
    "linear_model_price = LinearRegression()\n",
    "linear_model_price.fit(X_train_price, y_train_price)\n",
    "y_pred_lin_price = linear_model_price.predict(X_test_price)\n",
    "\n",
    "print(\"Linear Regression (Price) - MAE:\", mean_absolute_error(y_test_price, y_pred_lin_price))\n",
    "print(\"Linear Regression (Price) - MSE:\", mean_squared_error(y_test_price, y_pred_lin_price))\n",
    "print(\"Linear Regression (Price) - R2 Score:\", r2_score(y_test_price, y_pred_lin_price))"
   ]
  },
  {
   "cell_type": "code",
   "execution_count": null,
   "id": "c6dfb855",
   "metadata": {},
   "outputs": [],
   "source": [
    "\n",
    "# Random Forest Regressor\n",
    "forest_model_price = RandomForestRegressor()\n",
    "forest_model_price.fit(X_train_price, y_train_price)\n",
    "y_pred_forest_price = forest_model_price.predict(X_test_price)\n",
    "\n",
    "print(\"Random Forest (Price) - MAE:\", mean_absolute_error(y_test_price, y_pred_forest_price))\n",
    "print(\"Random Forest (Price) - MSE:\", mean_squared_error(y_test_price, y_pred_forest_price))\n",
    "print(\"Random Forest (Price) - R2 Score:\", r2_score(y_test_price, y_pred_forest_price))"
   ]
  },
  {
   "cell_type": "code",
   "execution_count": null,
   "id": "fc178a1e",
   "metadata": {},
   "outputs": [],
   "source": [
    "\n",
    "# XGBoost Regressor\n",
    "xgb_model_price = XGBRegressor()\n",
    "xgb_model_price.fit(X_train_price, y_train_price)\n",
    "y_pred_xgb_price = xgb_model_price.predict(X_test_price)\n",
    "\n",
    "print(\"XGBoost (Price) - MAE:\", mean_absolute_error(y_test_price, y_pred_xgb_price))\n",
    "print(\"XGBoost (Price) - MSE:\", mean_squared_error(y_test_price, y_pred_xgb_price))\n",
    "print(\"XGBoost (Price) - R2 Score:\", r2_score(y_test_price, y_pred_xgb_price))\n"
   ]
  },
  {
   "cell_type": "code",
   "execution_count": null,
   "id": "230312e3",
   "metadata": {},
   "outputs": [],
   "source": [
    "\n",
    "joblib.dump(forest_model_cost, 'best_zomato_cost_model_final.pkl')\n",
    "joblib.dump(xgb_model_price, 'best_zomato_price_model_final.pkl')\n"
   ]
  }
 ],
 "metadata": {
  "language_info": {
   "name": "python"
  }
 },
 "nbformat": 4,
 "nbformat_minor": 5
}
