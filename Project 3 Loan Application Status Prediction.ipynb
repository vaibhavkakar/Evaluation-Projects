{
 "cells": [
  {
   "cell_type": "code",
   "execution_count": null,
   "id": "c5db265a",
   "metadata": {},
   "outputs": [],
   "source": [
    "\n",
    "import pandas as pd\n",
    "import numpy as np\n",
    "import matplotlib.pyplot as plt\n",
    "import seaborn as sns\n",
    "from sklearn.model_selection import train_test_split, GridSearchCV\n",
    "from sklearn.preprocessing import StandardScaler, LabelEncoder\n",
    "from sklearn.metrics import accuracy_score, precision_score, recall_score, f1_score\n",
    "from sklearn.linear_model import LogisticRegression\n",
    "from sklearn.tree import DecisionTreeClassifier\n",
    "from sklearn.ensemble import RandomForestClassifier\n",
    "import joblib\n"
   ]
  },
  {
   "cell_type": "code",
   "execution_count": null,
   "id": "f923e178",
   "metadata": {},
   "outputs": [],
   "source": [
    "url = 'https://raw.githubusercontent.com/edyoda/data-science-complete-tutorial/master/Data/loan_prediction_data.csv'\n",
    "data = pd.read_csv(url)"
   ]
  },
  {
   "cell_type": "code",
   "execution_count": null,
   "id": "4b85f601",
   "metadata": {},
   "outputs": [],
   "source": [
    "df.head()"
   ]
  },
  {
   "cell_type": "code",
   "execution_count": null,
   "id": "e3269869",
   "metadata": {},
   "outputs": [],
   "source": [
    "print(df.describe())\n",
    "print(df.info())"
   ]
  },
  {
   "cell_type": "code",
   "execution_count": null,
   "id": "ceb8d2d0",
   "metadata": {},
   "outputs": [],
   "source": [
    "\n",
    "print(df.isnull().sum())"
   ]
  },
  {
   "cell_type": "code",
   "execution_count": null,
   "id": "baf09b52",
   "metadata": {},
   "outputs": [],
   "source": [
    "\n",
    "df.hist(figsize=(10, 8))\n",
    "plt.show()\n",
    "\n",
    "\n",
    "sns.heatmap(df.corr(), annot=True, cmap='coolwarm')\n",
    "plt.show()"
   ]
  },
  {
   "cell_type": "code",
   "execution_count": null,
   "id": "22a1e5cb",
   "metadata": {},
   "outputs": [],
   "source": [
    "\n",
    "df.drop_duplicates(inplace=True)\n",
    "df.fillna(df.mean(), inplace=True)\n"
   ]
  },
  {
   "cell_type": "code",
   "execution_count": null,
   "id": "f84ca382",
   "metadata": {},
   "outputs": [],
   "source": [
    "\n",
    "df['Gender'] = LabelEncoder().fit_transform(df['Gender'])\n",
    "df = pd.get_dummies(df, drop_first=True)"
   ]
  },
  {
   "cell_type": "code",
   "execution_count": null,
   "id": "b2b382fe",
   "metadata": {},
   "outputs": [],
   "source": [
    "\n",
    "X = df.drop('Loan_Status', axis=1)\n",
    "y = df['Loan_Status']"
   ]
  },
  {
   "cell_type": "code",
   "execution_count": null,
   "id": "440eceaa",
   "metadata": {},
   "outputs": [],
   "source": [
    "\n",
    "X_train, X_test, y_train, y_test = train_test_split(X, y, test_size=0.2, random_state=42)"
   ]
  },
  {
   "cell_type": "code",
   "execution_count": null,
   "id": "257f5b2a",
   "metadata": {},
   "outputs": [],
   "source": [
    "\n",
    "scaler = StandardScaler()\n",
    "X_train = scaler.fit_transform(X_train)\n",
    "X_test = scaler.transform(X_test)\n"
   ]
  },
  {
   "cell_type": "code",
   "execution_count": null,
   "id": "6881ea0a",
   "metadata": {},
   "outputs": [],
   "source": [
    "# Logistic Regression\n",
    "logistic_model = LogisticRegression()\n",
    "logistic_model.fit(X_train, y_train)\n",
    "y_pred_log = logistic_model.predict(X_test)\n",
    "\n",
    "print(\"Logistic Regression - Accuracy:\", accuracy_score(y_test, y_pred_log))\n",
    "print(\"Logistic Regression - Precision:\", precision_score(y_test, y_pred_log))\n",
    "print(\"Logistic Regression - Recall:\", recall_score(y_test, y_pred_log))\n",
    "print(\"Logistic Regression - F1 Score:\", f1_score(y_test, y_pred_log))"
   ]
  },
  {
   "cell_type": "code",
   "execution_count": null,
   "id": "01aa404c",
   "metadata": {},
   "outputs": [],
   "source": [
    "# Decision Tree Classifier\n",
    "tree_model = DecisionTreeClassifier()\n",
    "tree_model.fit(X_train, y_train)\n",
    "y_pred_tree = tree_model.predict(X_test)\n",
    "\n",
    "print(\"Decision Tree - Accuracy:\", accuracy_score(y_test, y_pred_tree))\n",
    "print(\"Decision Tree - Precision:\", precision_score(y_test, y_pred_tree))\n",
    "print(\"Decision Tree - Recall:\", recall_score(y_test, y_pred_tree))\n",
    "print(\"Decision Tree - F1 Score:\", f1_score(y_test, y_pred_tree))"
   ]
  },
  {
   "cell_type": "code",
   "execution_count": null,
   "id": "c84d89ee",
   "metadata": {},
   "outputs": [],
   "source": [
    "\n",
    "# Random Forest Classifier\n",
    "forest_model = RandomForestClassifier()\n",
    "forest_model.fit(X_train, y_train)\n",
    "y_pred_forest = forest_model.predict(X_test)\n",
    "\n",
    "print(\"Random Forest - Accuracy:\", accuracy_score(y_test, y_pred_forest))\n",
    "print(\"Random Forest - Precision:\", precision_score(y_test, y_pred_forest))\n",
    "print(\"Random Forest - Recall:\", recall_score(y_test, y_pred_forest))\n",
    "print(\"Random Forest - F1 Score:\", f1_score(y_test, y_pred_forest))\n"
   ]
  },
  {
   "cell_type": "code",
   "execution_count": null,
   "id": "71f1659d",
   "metadata": {},
   "outputs": [],
   "source": [
    "\n",
    "# Hyperparameter tuning for Random Forest Classifier\n",
    "param_grid = {'n_estimators': [50, 100, 200], 'max_depth': [3, 5, 7]}\n",
    "grid = GridSearchCV(RandomForestClassifier(), param_grid, cv=5)\n",
    "grid.fit(X_train, y_train)\n",
    "\n",
    "print(\"Best parameters for Random Forest Classifier:\", grid.best_params_)\n"
   ]
  },
  {
   "cell_type": "code",
   "execution_count": null,
   "id": "eb78d81e",
   "metadata": {},
   "outputs": [],
   "source": [
    "\n",
    "# Saving the best model using joblib\n",
    "joblib.dump(grid.best_estimator_, 'best_loan_model.pkl')\n"
   ]
  }
 ],
 "metadata": {
  "language_info": {
   "name": "python"
  }
 },
 "nbformat": 4,
 "nbformat_minor": 5
}
